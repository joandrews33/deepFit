{
 "cells": [
  {
   "cell_type": "code",
   "execution_count": 1,
   "id": "f7690cc4",
   "metadata": {},
   "outputs": [],
   "source": [
    "import torch\n",
    "import torch.distributions as dist\n",
    "import numpy as np\n",
    "import matplotlib.pyplot as plt\n",
    "\n",
    "import legacyMTT\n",
    "from deepMTT import BabyUNet\n",
    "\n",
    "from simulate.simulate_camera import get_camera_image \n",
    "from simulate.simulate_camera import add_molecule"
   ]
  },
  {
   "cell_type": "code",
   "execution_count": 2,
   "id": "e75eb694",
   "metadata": {},
   "outputs": [],
   "source": [
    "from simulate.simulate_test_data import simulate_test_data"
   ]
  },
  {
   "cell_type": "code",
   "execution_count": 3,
   "id": "0fd744f8",
   "metadata": {},
   "outputs": [],
   "source": [
    "%load_ext autoreload"
   ]
  },
  {
   "cell_type": "code",
   "execution_count": 4,
   "id": "ddec7353",
   "metadata": {},
   "outputs": [],
   "source": [
    "%autoreload 2"
   ]
  },
  {
   "cell_type": "code",
   "execution_count": 5,
   "id": "80e4511d",
   "metadata": {},
   "outputs": [],
   "source": [
    "import os\n",
    "\n",
    "os.environ['KMP_DUPLICATE_LIB_OK']='True'"
   ]
  },
  {
   "cell_type": "code",
   "execution_count": 6,
   "id": "f59841b0",
   "metadata": {},
   "outputs": [],
   "source": [
    "%matplotlib inline"
   ]
  },
  {
   "cell_type": "code",
   "execution_count": 7,
   "id": "d04b3128",
   "metadata": {},
   "outputs": [],
   "source": [
    "def count_loss(bernoulli_map, N):\n",
    "    N_est = bernoulli_map.sum(dim=2).sum(dim=2).squeeze(1)\n",
    "    var_est = (bernoulli_map*(1-bernoulli_map)).sum(dim=2).sum(dim=2).squeeze(1)\n",
    "    var_est = var_est+1e-10 #adding pseudocounts to prevent nans\n",
    "    log_loss = (N_est-N)**2/2/var_est+torch.log(torch.sqrt(2*np.pi*var_est))\n",
    "    log_loss -= torch.log(torch.sqrt(torch.tensor(2*np.pi*1e-10))) #removing the pseudocount loss to re-zero the second term of the function. \n",
    "    log_loss = log_loss.mean()\n",
    "    return log_loss"
   ]
  },
  {
   "cell_type": "code",
   "execution_count": 8,
   "id": "089c786e",
   "metadata": {},
   "outputs": [],
   "source": [
    "sigmoid = torch.nn.Sigmoid()"
   ]
  },
  {
   "cell_type": "code",
   "execution_count": 9,
   "id": "efb56e7d",
   "metadata": {},
   "outputs": [],
   "source": [
    "bernoulli_map = sigmoid(1*(torch.rand(6,1,20,20)-0.5))"
   ]
  },
  {
   "cell_type": "code",
   "execution_count": 10,
   "id": "c0c0ec62",
   "metadata": {},
   "outputs": [
    {
     "data": {
      "text/plain": [
       "tensor(13.8105)"
      ]
     },
     "execution_count": 10,
     "metadata": {},
     "output_type": "execute_result"
    }
   ],
   "source": [
    "count_loss(bernoulli_map, 200)"
   ]
  },
  {
   "cell_type": "code",
   "execution_count": 11,
   "id": "9480bbc4",
   "metadata": {},
   "outputs": [],
   "source": [
    "device = 'cpu'\n",
    "detection_model = BabyUNet().to(device)"
   ]
  },
  {
   "cell_type": "code",
   "execution_count": 12,
   "id": "4734a6b8",
   "metadata": {},
   "outputs": [],
   "source": [
    "learning_rate = 1e-3\n",
    "optimizer = torch.optim.Adam(detection_model.parameters(), lr=learning_rate)\n",
    "\n",
    "loss_fn_map = torch.nn.BCELoss()    \n",
    "loss_fn_counts = torch.nn.MSELoss()"
   ]
  },
  {
   "cell_type": "code",
   "execution_count": 13,
   "id": "e1c4dbc1",
   "metadata": {},
   "outputs": [
    {
     "name": "stderr",
     "output_type": "stream",
     "text": [
      "/Users/oandrews/miniconda3/envs/deepFit/lib/python3.7/site-packages/torch/nn/functional.py:718: UserWarning: Named tensors and all their associated APIs are an experimental feature and subject to change. Please do not use them for anything important until they are released as stable. (Triggered internally at  ../c10/core/TensorImpl.h:1156.)\n",
      "  return torch.max_pool2d(input, kernel_size, stride, padding, dilation, ceil_mode)\n",
      "/Users/oandrews/miniconda3/envs/deepFit/lib/python3.7/site-packages/torch/nn/functional.py:3613: UserWarning: Default upsampling behavior when mode=bilinear is changed to align_corners=False since 0.4.0. Please specify align_corners=True if the old behavior is desired. See the documentation of nn.Upsample for details.\n",
      "  \"See the documentation of nn.Upsample for details.\".format(mode)\n",
      "/Users/oandrews/miniconda3/envs/deepFit/lib/python3.7/site-packages/ipykernel_launcher.py:7: UserWarning: To copy construct from a tensor, it is recommended to use sourceTensor.clone().detach() or sourceTensor.clone().detach().requires_grad_(True), rather than torch.tensor(sourceTensor).\n",
      "  import sys\n"
     ]
    },
    {
     "name": "stdout",
     "output_type": "stream",
     "text": [
      "0 16841357312.0\n",
      "0 168413573.12\n",
      "100 5689095.0\n",
      "100 121293448.23125\n",
      "200 3259687.0\n",
      "200 7622050.574375\n",
      "300 4984650.0\n",
      "300 6194905.71984375\n",
      "400 2843372.75\n",
      "400 6919777.335\n",
      "500 3982942.0\n",
      "500 7237758.080625\n",
      "600 205371.546875\n",
      "600 5845394.93515625\n",
      "700 17540312.0\n",
      "700 7815557.8675\n",
      "800 2916685.75\n",
      "800 6560493.12984375\n",
      "900 9475310.0\n",
      "900 7256017.8390625\n",
      "1000 10735189.0\n",
      "1000 6437192.91484375\n",
      "1100 1271182.75\n",
      "1100 6247765.86578125\n",
      "1200 526360.9375\n",
      "1200 6216034.56375\n",
      "1300 3034777.75\n",
      "1300 7485468.80609375\n",
      "1400 6326703.5\n",
      "1400 5456568.965625\n",
      "1500 7178373.0\n",
      "1500 5626738.85890625\n",
      "1600 1353576.5\n",
      "1600 6627527.711875\n",
      "1700 3274292.25\n",
      "1700 7190055.590625\n",
      "1800 1003824.0\n",
      "1800 7144434.88125\n",
      "1900 12605024.0\n",
      "1900 6711765.84296875\n",
      "2000 8801402.0\n",
      "2000 6293986.695625\n",
      "2100 17290904.0\n",
      "2100 7036478.565625\n",
      "2200 15629723.0\n",
      "2200 6748620.66578125\n",
      "2300 142329.296875\n",
      "2300 6978852.0228125\n",
      "2400 10828848.0\n",
      "2400 6075241.0334375\n",
      "2500 396867.875\n",
      "2500 6786195.62015625\n",
      "2600 10058026.0\n",
      "2600 6230415.97890625\n",
      "2700 4531053.0\n",
      "2700 6760780.659375\n",
      "2800 15328201.0\n",
      "2800 5400141.0190625\n",
      "2900 15444498.0\n",
      "2900 6705641.4571875\n",
      "3000 2976821.75\n",
      "3000 6467387.20765625\n",
      "3100 3698948.0\n",
      "3100 5717544.01078125\n",
      "3200 9233739.0\n",
      "3200 5424766.3971875\n",
      "3300 1452794.75\n",
      "3300 6782513.22703125\n",
      "3400 14853785.0\n",
      "3400 5977659.7403125\n",
      "3500 5034193.5\n",
      "3500 6883786.13734375\n",
      "3600 6483029.5\n",
      "3600 6801655.37328125\n",
      "3700 8650389.0\n",
      "3700 6496103.9353125\n",
      "3800 3100976.25\n",
      "3800 6305148.54140625\n",
      "3900 12884837.0\n",
      "3900 5150097.9771875\n",
      "4000 6737197.0\n",
      "4000 5979802.68796875\n",
      "4100 182690.75\n",
      "4100 5570125.41015625\n",
      "4200 1829949.0\n",
      "4200 6183412.89328125\n",
      "4300 187149.53125\n",
      "4300 5268093.680234375\n",
      "4400 4079298.5\n",
      "4400 5821132.573828125\n",
      "4500 7084292.5\n",
      "4500 5861840.60765625\n",
      "4600 1454240.25\n",
      "4600 5759305.459375\n",
      "4700 6699519.0\n",
      "4700 6062287.4353125\n",
      "4800 11095860.0\n",
      "4800 4966979.15296875\n",
      "4900 10138817.0\n",
      "4900 5628421.25640625\n"
     ]
    }
   ],
   "source": [
    "running_loss = 0.\n",
    "for t in range(5000):\n",
    "    n_pix = np.random.randint(467)+45\n",
    "    n_mols_in = np.random.randint(18)+3\n",
    "    X, det_map, n_mols = simulate_test_data(n_pix=n_pix, mols_per_frame = n_mols_in)\n",
    "    map_est = detection_model(X)\n",
    "    loss = loss_fn_map(map_est, det_map) + 100*count_loss(map_est, torch.tensor(n_mols).float())\n",
    "    optimizer.zero_grad()\n",
    "    loss.backward()\n",
    "    optimizer.step()\n",
    "    running_loss+= loss.item()\n",
    "    if t % 100 == 0:\n",
    "        print(t, loss.item())\n",
    "        print(t, running_loss/100)\n",
    "        running_loss = 0."
   ]
  },
  {
   "cell_type": "code",
   "execution_count": 14,
   "id": "97f9b9c6",
   "metadata": {},
   "outputs": [
    {
     "name": "stderr",
     "output_type": "stream",
     "text": [
      "/Users/oandrews/miniconda3/envs/deepFit/lib/python3.7/site-packages/ipykernel_launcher.py:3: UserWarning: To copy construct from a tensor, it is recommended to use sourceTensor.clone().detach() or sourceTensor.clone().detach().requires_grad_(True), rather than torch.tensor(sourceTensor).\n",
      "  This is separate from the ipykernel package so we can avoid doing imports until\n"
     ]
    },
    {
     "data": {
      "text/plain": [
       "9134.5009765625"
      ]
     },
     "execution_count": 14,
     "metadata": {},
     "output_type": "execute_result"
    }
   ],
   "source": [
    "X, det_map, n_mols = simulate_test_data()\n",
    "map_est = detection_model(X)\n",
    "loss = loss_fn_map(map_est, det_map) + count_loss(map_est, torch.tensor(n_mols).float())\n",
    "loss.item()"
   ]
  },
  {
   "cell_type": "code",
   "execution_count": 15,
   "id": "b98abfd3",
   "metadata": {},
   "outputs": [
    {
     "data": {
      "text/plain": [
       "<matplotlib.image.AxesImage at 0x12a1b2d10>"
      ]
     },
     "execution_count": 15,
     "metadata": {},
     "output_type": "execute_result"
    },
    {
     "data": {
      "image/png": "[encoded data removed]",
      "text/plain": [
       "<Figure size 432x288 with 1 Axes>"
      ]
     },
     "metadata": {
      "needs_background": "light"
     },
     "output_type": "display_data"
    }
   ],
   "source": [
    "plt.imshow(map_est.squeeze().detach(), cmap = 'gray')"
   ]
  },
  {
   "cell_type": "code",
   "execution_count": 16,
   "id": "d8804588",
   "metadata": {},
   "outputs": [
    {
     "data": {
      "text/plain": [
       "<matplotlib.image.AxesImage at 0x130931990>"
      ]
     },
     "execution_count": 16,
     "metadata": {},
     "output_type": "execute_result"
    },
    {
     "data": {
      "image/png": "[encoded data removed]",
      "text/plain": [
       "<Figure size 432x288 with 1 Axes>"
      ]
     },
     "metadata": {
      "needs_background": "light"
     },
     "output_type": "display_data"
    }
   ],
   "source": [
    "plt.imshow(det_map.squeeze().detach(), cmap = 'gray')"
   ]
  },
  {
   "cell_type": "code",
   "execution_count": 17,
   "id": "d8dfc437",
   "metadata": {},
   "outputs": [
    {
     "data": {
      "text/plain": [
       "tensor(0.5270, grad_fn=<MaxBackward1>)"
      ]
     },
     "execution_count": 17,
     "metadata": {},
     "output_type": "execute_result"
    }
   ],
   "source": [
    "torch.max(map_est)"
   ]
  },
  {
   "cell_type": "code",
   "execution_count": 18,
   "id": "6a4b15f8",
   "metadata": {},
   "outputs": [
    {
     "name": "stderr",
     "output_type": "stream",
     "text": [
      "/Users/oandrews/miniconda3/envs/deepFit/lib/python3.7/site-packages/ipykernel_launcher.py:1: UserWarning: To copy construct from a tensor, it is recommended to use sourceTensor.clone().detach() or sourceTensor.clone().detach().requires_grad_(True), rather than torch.tensor(sourceTensor).\n",
      "  \"\"\"Entry point for launching an IPython kernel.\n"
     ]
    },
    {
     "data": {
      "text/plain": [
       "tensor(9133.7520, grad_fn=<MeanBackward0>)"
      ]
     },
     "execution_count": 18,
     "metadata": {},
     "output_type": "execute_result"
    }
   ],
   "source": [
    "count_loss(map_est, torch.tensor(n_mols).float())"
   ]
  },
  {
   "cell_type": "code",
   "execution_count": 19,
   "id": "69cafee5",
   "metadata": {},
   "outputs": [
    {
     "data": {
      "text/plain": [
       "tensor([[[[0.5270, 0.5270, 0.5270,  ..., 0.5270, 0.5270, 0.5270],\n",
       "          [0.5270, 0.5270, 0.5270,  ..., 0.5270, 0.5270, 0.5270],\n",
       "          [0.5270, 0.5270, 0.5270,  ..., 0.5270, 0.5270, 0.5270],\n",
       "          ...,\n",
       "          [0.5270, 0.5270, 0.5270,  ..., 0.5270, 0.5270, 0.5270],\n",
       "          [0.5270, 0.5270, 0.5270,  ..., 0.5270, 0.5270, 0.5270],\n",
       "          [0.5270, 0.5270, 0.5270,  ..., 0.5270, 0.5270, 0.5270]]]],\n",
       "       grad_fn=<SliceBackward>)"
      ]
     },
     "execution_count": 19,
     "metadata": {},
     "output_type": "execute_result"
    }
   ],
   "source": [
    "map_est"
   ]
  },
  {
   "cell_type": "code",
   "execution_count": 20,
   "id": "fa40a02d",
   "metadata": {},
   "outputs": [
    {
     "data": {
      "text/plain": [
       "tensor([[0.5270, 0.5270, 0.5270,  ..., 0.5270, 0.5270, 0.5270],\n",
       "        [0.5270, 0.5270, 0.5270,  ..., 0.5270, 0.5270, 0.5270],\n",
       "        [0.5270, 0.5270, 0.5270,  ..., 0.5270, 0.5270, 0.5270],\n",
       "        ...,\n",
       "        [0.5270, 0.5270, 0.5270,  ..., 0.5270, 0.5270, 0.5270],\n",
       "        [0.5270, 0.5270, 0.5270,  ..., 0.5270, 0.5270, 0.5270],\n",
       "        [0.5270, 0.5270, 0.5270,  ..., 0.5270, 0.5270, 0.5270]],\n",
       "       grad_fn=<SqueezeBackward0>)"
      ]
     },
     "execution_count": 20,
     "metadata": {},
     "output_type": "execute_result"
    }
   ],
   "source": [
    "map_est.squeeze()"
   ]
  },
  {
   "cell_type": "code",
   "execution_count": 21,
   "id": "487c3aaa",
   "metadata": {},
   "outputs": [
    {
     "data": {
      "text/plain": [
       "tensor(0.5270, grad_fn=<MinBackward1>)"
      ]
     },
     "execution_count": 21,
     "metadata": {},
     "output_type": "execute_result"
    }
   ],
   "source": [
    "torch.min(map_est)"
   ]
  },
  {
   "cell_type": "code",
   "execution_count": 22,
   "id": "6b38944b",
   "metadata": {},
   "outputs": [
    {
     "data": {
      "text/plain": [
       "<matplotlib.image.AxesImage at 0x130e4e250>"
      ]
     },
     "execution_count": 22,
     "metadata": {},
     "output_type": "execute_result"
    },
    {
     "data": {
      "image/png": "[encoded data removed]",
      "text/plain": [
       "<Figure size 432x288 with 1 Axes>"
      ]
     },
     "metadata": {
      "needs_background": "light"
     },
     "output_type": "display_data"
    }
   ],
   "source": [
    "plt.imshow(map_est.squeeze().detach()[0:10,0:10], cmap = 'gray')"
   ]
  },
  {
   "cell_type": "code",
   "execution_count": 23,
   "id": "b31c6e49",
   "metadata": {},
   "outputs": [],
   "source": [
    "learning_rate = 1e-5\n",
    "optimizer = torch.optim.Adam(detection_model.parameters(), lr=learning_rate)\n",
    "\n",
    "loss_fn_map = torch.nn.BCELoss()    \n",
    "loss_fn_counts = torch.nn.MSELoss()"
   ]
  },
  {
   "cell_type": "code",
   "execution_count": 24,
   "id": "57cefc94",
   "metadata": {},
   "outputs": [
    {
     "name": "stderr",
     "output_type": "stream",
     "text": [
      "/Users/oandrews/miniconda3/envs/deepFit/lib/python3.7/site-packages/ipykernel_launcher.py:7: UserWarning: To copy construct from a tensor, it is recommended to use sourceTensor.clone().detach() or sourceTensor.clone().detach().requires_grad_(True), rather than torch.tensor(sourceTensor).\n",
      "  import sys\n"
     ]
    },
    {
     "name": "stdout",
     "output_type": "stream",
     "text": [
      "0 6994.84033203125\n",
      "0 69.9484033203125\n",
      "100 70971.9375\n",
      "100 51090.52436401367\n",
      "200 131946.984375\n",
      "200 57677.745986328126\n",
      "300 123842.9609375\n",
      "300 57537.775451660156\n",
      "400 19854.26953125\n",
      "400 52569.25546630859\n",
      "500 16226.5966796875\n",
      "500 59930.409145507816\n",
      "600 68323.15625\n",
      "600 55681.139884033204\n"
     ]
    },
    {
     "ename": "KeyboardInterrupt",
     "evalue": "",
     "output_type": "error",
     "traceback": [
      "\u001b[0;31m---------------------------------------------------------------------------\u001b[0m",
      "\u001b[0;31mKeyboardInterrupt\u001b[0m                         Traceback (most recent call last)",
      "\u001b[0;32m<ipython-input-24-02c12a3d5a06>\u001b[0m in \u001b[0;36m<module>\u001b[0;34m\u001b[0m\n\u001b[1;32m      7\u001b[0m     \u001b[0mloss\u001b[0m \u001b[0;34m=\u001b[0m \u001b[0mloss_fn_map\u001b[0m\u001b[0;34m(\u001b[0m\u001b[0mmap_est\u001b[0m\u001b[0;34m,\u001b[0m \u001b[0mdet_map\u001b[0m\u001b[0;34m)\u001b[0m \u001b[0;34m+\u001b[0m \u001b[0mcount_loss\u001b[0m\u001b[0;34m(\u001b[0m\u001b[0mmap_est\u001b[0m\u001b[0;34m,\u001b[0m \u001b[0mtorch\u001b[0m\u001b[0;34m.\u001b[0m\u001b[0mtensor\u001b[0m\u001b[0;34m(\u001b[0m\u001b[0mn_mols\u001b[0m\u001b[0;34m)\u001b[0m\u001b[0;34m.\u001b[0m\u001b[0mfloat\u001b[0m\u001b[0;34m(\u001b[0m\u001b[0;34m)\u001b[0m\u001b[0;34m)\u001b[0m\u001b[0;34m\u001b[0m\u001b[0;34m\u001b[0m\u001b[0m\n\u001b[1;32m      8\u001b[0m     \u001b[0moptimizer\u001b[0m\u001b[0;34m.\u001b[0m\u001b[0mzero_grad\u001b[0m\u001b[0;34m(\u001b[0m\u001b[0;34m)\u001b[0m\u001b[0;34m\u001b[0m\u001b[0;34m\u001b[0m\u001b[0m\n\u001b[0;32m----> 9\u001b[0;31m     \u001b[0mloss\u001b[0m\u001b[0;34m.\u001b[0m\u001b[0mbackward\u001b[0m\u001b[0;34m(\u001b[0m\u001b[0;34m)\u001b[0m\u001b[0;34m\u001b[0m\u001b[0;34m\u001b[0m\u001b[0m\n\u001b[0m\u001b[1;32m     10\u001b[0m     \u001b[0moptimizer\u001b[0m\u001b[0;34m.\u001b[0m\u001b[0mstep\u001b[0m\u001b[0;34m(\u001b[0m\u001b[0;34m)\u001b[0m\u001b[0;34m\u001b[0m\u001b[0;34m\u001b[0m\u001b[0m\n\u001b[1;32m     11\u001b[0m     \u001b[0mrunning_loss\u001b[0m\u001b[0;34m+=\u001b[0m \u001b[0mloss\u001b[0m\u001b[0;34m.\u001b[0m\u001b[0mitem\u001b[0m\u001b[0;34m(\u001b[0m\u001b[0;34m)\u001b[0m\u001b[0;34m\u001b[0m\u001b[0;34m\u001b[0m\u001b[0m\n",
      "\u001b[0;32m~/miniconda3/envs/deepFit/lib/python3.7/site-packages/torch/_tensor.py\u001b[0m in \u001b[0;36mbackward\u001b[0;34m(self, gradient, retain_graph, create_graph, inputs)\u001b[0m\n\u001b[1;32m    253\u001b[0m                 \u001b[0mcreate_graph\u001b[0m\u001b[0;34m=\u001b[0m\u001b[0mcreate_graph\u001b[0m\u001b[0;34m,\u001b[0m\u001b[0;34m\u001b[0m\u001b[0;34m\u001b[0m\u001b[0m\n\u001b[1;32m    254\u001b[0m                 inputs=inputs)\n\u001b[0;32m--> 255\u001b[0;31m         \u001b[0mtorch\u001b[0m\u001b[0;34m.\u001b[0m\u001b[0mautograd\u001b[0m\u001b[0;34m.\u001b[0m\u001b[0mbackward\u001b[0m\u001b[0;34m(\u001b[0m\u001b[0mself\u001b[0m\u001b[0;34m,\u001b[0m \u001b[0mgradient\u001b[0m\u001b[0;34m,\u001b[0m \u001b[0mretain_graph\u001b[0m\u001b[0;34m,\u001b[0m \u001b[0mcreate_graph\u001b[0m\u001b[0;34m,\u001b[0m \u001b[0minputs\u001b[0m\u001b[0;34m=\u001b[0m\u001b[0minputs\u001b[0m\u001b[0;34m)\u001b[0m\u001b[0;34m\u001b[0m\u001b[0;34m\u001b[0m\u001b[0m\n\u001b[0m\u001b[1;32m    256\u001b[0m \u001b[0;34m\u001b[0m\u001b[0m\n\u001b[1;32m    257\u001b[0m     \u001b[0;32mdef\u001b[0m \u001b[0mregister_hook\u001b[0m\u001b[0;34m(\u001b[0m\u001b[0mself\u001b[0m\u001b[0;34m,\u001b[0m \u001b[0mhook\u001b[0m\u001b[0;34m)\u001b[0m\u001b[0;34m:\u001b[0m\u001b[0;34m\u001b[0m\u001b[0;34m\u001b[0m\u001b[0m\n",
      "\u001b[0;32m~/miniconda3/envs/deepFit/lib/python3.7/site-packages/torch/autograd/__init__.py\u001b[0m in \u001b[0;36mbackward\u001b[0;34m(tensors, grad_tensors, retain_graph, create_graph, grad_variables, inputs)\u001b[0m\n\u001b[1;32m    147\u001b[0m     Variable._execution_engine.run_backward(\n\u001b[1;32m    148\u001b[0m         \u001b[0mtensors\u001b[0m\u001b[0;34m,\u001b[0m \u001b[0mgrad_tensors_\u001b[0m\u001b[0;34m,\u001b[0m \u001b[0mretain_graph\u001b[0m\u001b[0;34m,\u001b[0m \u001b[0mcreate_graph\u001b[0m\u001b[0;34m,\u001b[0m \u001b[0minputs\u001b[0m\u001b[0;34m,\u001b[0m\u001b[0;34m\u001b[0m\u001b[0;34m\u001b[0m\u001b[0m\n\u001b[0;32m--> 149\u001b[0;31m         allow_unreachable=True, accumulate_grad=True)  # allow_unreachable flag\n\u001b[0m\u001b[1;32m    150\u001b[0m \u001b[0;34m\u001b[0m\u001b[0m\n\u001b[1;32m    151\u001b[0m \u001b[0;34m\u001b[0m\u001b[0m\n",
      "\u001b[0;31mKeyboardInterrupt\u001b[0m: "
     ]
    }
   ],
   "source": [
    "running_loss = 0.\n",
    "for t in range(10000):\n",
    "    n_pix = np.random.randint(467)+45\n",
    "    n_mols_in = np.random.randint(18)+3\n",
    "    X, det_map, n_mols = simulate_test_data(n_pix=n_pix, mols_per_frame = n_mols_in)\n",
    "    map_est = detection_model(X)\n",
    "    loss = loss_fn_map(map_est, det_map) + count_loss(map_est, torch.tensor(n_mols).float())\n",
    "    optimizer.zero_grad()\n",
    "    loss.backward()\n",
    "    optimizer.step()\n",
    "    running_loss+= loss.item()\n",
    "    if t % 100 == 0:\n",
    "        print(t, loss.item())\n",
    "        print(t, running_loss/100)\n",
    "        running_loss = 0."
   ]
  },
  {
   "cell_type": "code",
   "execution_count": null,
   "id": "981bf703",
   "metadata": {},
   "outputs": [],
   "source": [
    "loss_fn_map(map_est, det_map)"
   ]
  },
  {
   "cell_type": "code",
   "execution_count": 25,
   "id": "7306d54e",
   "metadata": {},
   "outputs": [],
   "source": [
    "model_parameters = filter(lambda p: p.requires_grad, detection_model.parameters())\n",
    "params = sum([np.prod(p.size()) for p in model_parameters])"
   ]
  },
  {
   "cell_type": "code",
   "execution_count": 26,
   "id": "f53f05c8",
   "metadata": {},
   "outputs": [
    {
     "data": {
      "text/plain": [
       "7613"
      ]
     },
     "execution_count": 26,
     "metadata": {},
     "output_type": "execute_result"
    }
   ],
   "source": [
    "params"
   ]
  },
  {
   "cell_type": "code",
   "execution_count": null,
   "id": "7eb845aa",
   "metadata": {},
   "outputs": [],
   "source": []
  }
 ],
 "metadata": {
  "kernelspec": {
   "display_name": "Python 3",
   "language": "python",
   "name": "python3"
  },
  "language_info": {
   "codemirror_mode": {
    "name": "ipython",
    "version": 3
   },
   "file_extension": ".py",
   "mimetype": "text/x-python",
   "name": "python",
   "nbconvert_exporter": "python",
   "pygments_lexer": "ipython3",
   "version": "3.7.10"
  }
 },
 "nbformat": 4,
 "nbformat_minor": 5
}
