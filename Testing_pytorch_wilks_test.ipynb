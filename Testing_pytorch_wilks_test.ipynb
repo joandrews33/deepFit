{
 "cells": [
  {
   "cell_type": "code",
   "execution_count": 1,
   "id": "c167bec5",
   "metadata": {},
   "outputs": [],
   "source": [
    "import numpy as np\n",
    "import torch\n",
    "\n",
    "from legacyMTT import wilks_map, wilks_map_tensor"
   ]
  },
  {
   "cell_type": "code",
   "execution_count": 2,
   "id": "edadc4f5",
   "metadata": {},
   "outputs": [],
   "source": [
    "import os\n",
    "\n",
    "os.environ['KMP_DUPLICATE_LIB_OK']='True'"
   ]
  },
  {
   "cell_type": "code",
   "execution_count": 3,
   "id": "789b5b6f",
   "metadata": {},
   "outputs": [],
   "source": [
    "im = np.random.rand(100,100)\n",
    "im_tensor = torch.tensor(im)\n",
    "radius = 1.1\n",
    "n_pix = 7\n"
   ]
  },
  {
   "cell_type": "code",
   "execution_count": 4,
   "id": "cef54b04",
   "metadata": {},
   "outputs": [],
   "source": [
    "m0, alpha, w_map = wilks_map(im, radius, n_pix)\n"
   ]
  },
  {
   "cell_type": "code",
   "execution_count": 5,
   "id": "abb2d5ea",
   "metadata": {},
   "outputs": [
    {
     "name": "stderr",
     "output_type": "stream",
     "text": [
      "/Users/oandrews/PycharmProjects/DeepFit/legacyMTT.py:67: UserWarning: floor_divide is deprecated, and will be removed in a future version of pytorch. It currently rounds toward 0 (like the 'trunc' function NOT 'floor'). This results in incorrect rounding for negative values.\n",
      "To keep the current behavior, use torch.div(a, b, rounding_mode='trunc'), or for actual floor division, use torch.div(a, b, rounding_mode='floor'). (Triggered internally at  ../aten/src/ATen/native/BinaryOps.cpp:467.)\n",
      "  r_indices = slice(torch.floor_divide((R - r), 2), torch.floor_divide((R - r), 2) + r)\n"
     ]
    }
   ],
   "source": [
    "m0_ten, alpha_ten, w_map_ten = wilks_map_tensor(im_tensor, radius, n_pix)"
   ]
  },
  {
   "cell_type": "code",
   "execution_count": 6,
   "id": "391f8b5a",
   "metadata": {},
   "outputs": [
    {
     "name": "stdout",
     "output_type": "stream",
     "text": [
      "[[0.51559335 0.49180975 0.46430951 ... 0.50309857 0.49279845 0.51665332]\n",
      " [0.51851703 0.50983938 0.49847936 ... 0.51064976 0.51683577 0.52122573]\n",
      " [0.52466024 0.52566461 0.516364   ... 0.4878594  0.48136729 0.50272796]\n",
      " ...\n",
      " [0.54432975 0.53151718 0.50701966 ... 0.52045008 0.56002761 0.56448753]\n",
      " [0.52731344 0.51137312 0.48058673 ... 0.52603524 0.54195174 0.54771534]\n",
      " [0.52041836 0.50044162 0.46371301 ... 0.49681368 0.49365698 0.51590241]]\n",
      "tensor([[0.5156, 0.4918, 0.4643,  ..., 0.5031, 0.4928, 0.5167],\n",
      "        [0.5185, 0.5098, 0.4985,  ..., 0.5106, 0.5168, 0.5212],\n",
      "        [0.5247, 0.5257, 0.5164,  ..., 0.4879, 0.4814, 0.5027],\n",
      "        ...,\n",
      "        [0.5443, 0.5315, 0.5070,  ..., 0.5205, 0.5600, 0.5645],\n",
      "        [0.5273, 0.5114, 0.4806,  ..., 0.5260, 0.5420, 0.5477],\n",
      "        [0.5204, 0.5004, 0.4637,  ..., 0.4968, 0.4937, 0.5159]],\n",
      "       dtype=torch.float64)\n"
     ]
    }
   ],
   "source": [
    "print(m0)\n",
    "print(m0_ten)\n"
   ]
  },
  {
   "cell_type": "code",
   "execution_count": 10,
   "id": "c3edb30d",
   "metadata": {},
   "outputs": [
    {
     "name": "stdout",
     "output_type": "stream",
     "text": [
      "[[1.05978288e-08 9.41624610e-09 9.27050649e-09 ... 3.66704328e-09\n",
      "  1.82028954e-08 7.93075599e-09]\n",
      " [5.45163031e-09 3.87152401e-09 4.46523430e-09 ... 7.81872639e-09\n",
      "  7.95615671e-09 4.70544698e-09]\n",
      " [2.89698308e-09 7.33502155e-10 3.56807511e-09 ... 9.89416134e-09\n",
      "  1.13883024e-08 7.82074944e-09]\n",
      " ...\n",
      " [2.91333887e-09 6.48617032e-09 6.88631058e-10 ... 3.63041316e-09\n",
      "  1.55964252e-09 5.35427199e-09]\n",
      " [8.46456950e-09 4.83503765e-09 1.10072085e-08 ... 8.24682112e-09\n",
      "  7.65598161e-09 2.81661732e-09]\n",
      " [3.56739640e-09 4.38206566e-10 5.90571541e-09 ... 6.55418162e-09\n",
      "  1.16590341e-08 3.95964236e-09]]\n"
     ]
    }
   ],
   "source": [
    "print(np.abs((m0-m0_ten.numpy())/m0))"
   ]
  },
  {
   "cell_type": "code",
   "execution_count": 11,
   "id": "ffaedfe0",
   "metadata": {},
   "outputs": [
    {
     "data": {
      "text/plain": [
       "2.7074897341405612e-08"
      ]
     },
     "execution_count": 11,
     "metadata": {},
     "output_type": "execute_result"
    }
   ],
   "source": [
    "np.max((np.abs((m0-m0_ten.numpy())/m0)))"
   ]
  },
  {
   "cell_type": "code",
   "execution_count": 12,
   "id": "acef86b8",
   "metadata": {},
   "outputs": [
    {
     "data": {
      "text/plain": [
       "3.175933914124022e-08"
      ]
     },
     "execution_count": 12,
     "metadata": {},
     "output_type": "execute_result"
    }
   ],
   "source": [
    "np.max((np.abs((alpha-alpha_ten.numpy())/alpha)))"
   ]
  },
  {
   "cell_type": "code",
   "execution_count": 13,
   "id": "2a4a556c",
   "metadata": {},
   "outputs": [
    {
     "data": {
      "text/plain": [
       "2.3316743542177862e-08"
      ]
     },
     "execution_count": 13,
     "metadata": {},
     "output_type": "execute_result"
    }
   ],
   "source": [
    "np.max((np.abs((w_map-w_map_ten.numpy())/w_map)))"
   ]
  },
  {
   "cell_type": "code",
   "execution_count": null,
   "id": "fd44cc63",
   "metadata": {},
   "outputs": [],
   "source": [
    "## Looks good to me"
   ]
  }
 ],
 "metadata": {
  "kernelspec": {
   "display_name": "Python 3",
   "language": "python",
   "name": "python3"
  },
  "language_info": {
   "codemirror_mode": {
    "name": "ipython",
    "version": 3
   },
   "file_extension": ".py",
   "mimetype": "text/x-python",
   "name": "python",
   "nbconvert_exporter": "python",
   "pygments_lexer": "ipython3",
   "version": "3.7.10"
  }
 },
 "nbformat": 4,
 "nbformat_minor": 5
}
