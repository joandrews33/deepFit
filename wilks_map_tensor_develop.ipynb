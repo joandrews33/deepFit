{
 "cells": [
  {
   "cell_type": "code",
   "execution_count": 23,
   "id": "61b57ae1",
   "metadata": {},
   "outputs": [],
   "source": [
    "import torch\n",
    "import numpy as np"
   ]
  },
  {
   "cell_type": "code",
   "execution_count": 31,
   "id": "c16d80c3",
   "metadata": {},
   "outputs": [],
   "source": [
    "Im = torch.rand((10,10))\n",
    "\n",
    "n_pix = 7\n",
    "radius = 1.1"
   ]
  },
  {
   "cell_type": "code",
   "execution_count": 35,
   "id": "549d52ec",
   "metadata": {},
   "outputs": [],
   "source": [
    "def wilks_map_tensor(Im, radius, n_pix):\n",
    "    R, C = Im.size()\n",
    "    \n",
    "    N = n_pix**2\n",
    "    \n",
    "    def pad(Mask,R,C):\n",
    "        r,  c = Mask.size()\n",
    "        Out = torch.zeros((R, C))\n",
    "        r_indices = slice(torch.floor_divide((R-r), 2), torch.floor_divide((R-r), 2)+r)\n",
    "        c_indices = slice(torch.floor_divide((C-c), 2), torch.floor_divide((C-c), 2)+c)\n",
    "        Out[r_indices, c_indices] += Mask\n",
    "        return Out\n",
    "    \n",
    "    def gauss_mask(r,n_pix):\n",
    "        xx = torch.arange(n_pix, dtype=torch.float).reshape(-1,1)@torch.ones((1,n_pix))-(n_pix-1)/2\n",
    "        yy = torch.ones((n_pix,1))@torch.arange(n_pix, dtype=torch.float).reshape(1,-1)-(n_pix-1)/2\n",
    "        zz = -(xx**2+yy**2)/2/r**2\n",
    "        mask = 1/np.sqrt(np.pi*r**2)*torch.exp(zz)\n",
    "        return mask\n",
    "    \n",
    "    # Null Hypothesis \n",
    "    # Use fourier transforms to convolve image with specific kernel masks quickly. A mask of ones will sum elements in the window.\n",
    "\n",
    "    addition_mask = torch.ones((n_pix, n_pix)) #This mask of ones will sum all pixels within the window when convolved with image\n",
    "    addition_mask = pad(mask, R, C)\n",
    "    \n",
    "    trans_add_mask = torch.fft.fft2(addition_mask) #Fourier Transformed mask\n",
    "    trans_image = torch.fft.fft2(Im) \n",
    "    m0 = torch.real(torch.fft.fftshift(torch.fft.ifft2(trans_add_mask*trans_image)))/N  #Mean intensity in window\n",
    "\n",
    "    trans_image2 = torch.fft.fft2(Im*Im)\n",
    "    im_variance = torch.real(torch.fft.fftshift(torch.fft.ifft2(trans_add_mask*trans_image2)))/N #Mean second moment of intensity in window\n",
    "\n",
    "    # H1\n",
    "    # Intensity Profile ~ Alpha* Gaussian Profile + Background\n",
    "\n",
    "    g_mask = pad(gauss_mask(radius, n_pix), R, C)\n",
    "    g_mask_mean_shift = g_mask - torch.sum(g_mask)/N\n",
    "    g_variance = torch.sum(g_mask_mean_shift**2)\n",
    "\n",
    "    trans_g_mask = torch.fft.fft2(g_mask_mean_shift)\n",
    "\n",
    "    alpha = torch.real(torch.fft.fftshift(torch.fft.ifft2(trans_g_mask*trans_image))) / g_variance  #fit value of gaussian term prefactor.\n",
    "    \n",
    "    # Evaluating the test statistic -log of the likelihood ratios under the two models\n",
    "    test = 1 - (g_variance * alpha**2)/ (im_variance - N*m0**2 )\n",
    "    test[test <= 0] = 1\n",
    "    w_map = - N * torch.log(test)\n",
    "    \n",
    "    return m0, alpha, w_map"
   ]
  },
  {
   "cell_type": "code",
   "execution_count": 11,
   "id": "e5341e75",
   "metadata": {},
   "outputs": [
    {
     "name": "stdout",
     "output_type": "stream",
     "text": [
      "10\n",
      "10\n"
     ]
    }
   ],
   "source": [
    "R, C = Im.size()\n",
    "print(R)\n",
    "print(C)"
   ]
  },
  {
   "cell_type": "code",
   "execution_count": 13,
   "id": "ee6fae03",
   "metadata": {},
   "outputs": [
    {
     "name": "stdout",
     "output_type": "stream",
     "text": [
      "tensor([[1., 1., 1., 1., 1., 1., 1.],\n",
      "        [1., 1., 1., 1., 1., 1., 1.],\n",
      "        [1., 1., 1., 1., 1., 1., 1.],\n",
      "        [1., 1., 1., 1., 1., 1., 1.],\n",
      "        [1., 1., 1., 1., 1., 1., 1.],\n",
      "        [1., 1., 1., 1., 1., 1., 1.],\n",
      "        [1., 1., 1., 1., 1., 1., 1.]])\n"
     ]
    }
   ],
   "source": [
    "N = n_pix**2\n",
    "mask = torch.ones((n_pix, n_pix))\n",
    "print(mask)"
   ]
  },
  {
   "cell_type": "code",
   "execution_count": 14,
   "id": "3e62f9ef",
   "metadata": {},
   "outputs": [],
   "source": [
    "def pad(Mask,R,C):\n",
    "        r,  c = Mask.size()\n",
    "        Out = torch.zeros((R, C))\n",
    "        r_indices = slice(torch.floor_divide((R-r), 2), torch.floor_divide((R-r), 2)+r)\n",
    "        c_indices = slice(torch.floor_divide((C-c), 2), torch.floor_divide((C-c), 2)+c)\n",
    "        Out[r_indices, c_indices] += Mask\n",
    "        return Out"
   ]
  },
  {
   "cell_type": "code",
   "execution_count": 25,
   "id": "089fb1b3",
   "metadata": {},
   "outputs": [],
   "source": [
    "def gauss_mask(r,n_pix):\n",
    "        xx = torch.arange(n_pix, dtype=torch.float).reshape(-1,1)@torch.ones((1,n_pix))-(n_pix-1)/2\n",
    "        yy = torch.ones((n_pix,1))@torch.arange(n_pix, dtype=torch.float).reshape(1,-1)-(n_pix-1)/2\n",
    "        zz = -(xx**2+yy**2)/2/r**2\n",
    "        mask = 1/np.sqrt(np.pi*r**2)*torch.exp(zz)\n",
    "        return mask\n"
   ]
  },
  {
   "cell_type": "code",
   "execution_count": 21,
   "id": "9896fa7c",
   "metadata": {},
   "outputs": [
    {
     "name": "stdout",
     "output_type": "stream",
     "text": [
      "tensor([[0., 0., 0., 0., 0., 0., 0., 0., 0., 0.],\n",
      "        [0., 1., 1., 1., 1., 1., 1., 1., 0., 0.],\n",
      "        [0., 1., 1., 1., 1., 1., 1., 1., 0., 0.],\n",
      "        [0., 1., 1., 1., 1., 1., 1., 1., 0., 0.],\n",
      "        [0., 1., 1., 1., 1., 1., 1., 1., 0., 0.],\n",
      "        [0., 1., 1., 1., 1., 1., 1., 1., 0., 0.],\n",
      "        [0., 1., 1., 1., 1., 1., 1., 1., 0., 0.],\n",
      "        [0., 1., 1., 1., 1., 1., 1., 1., 0., 0.],\n",
      "        [0., 0., 0., 0., 0., 0., 0., 0., 0., 0.],\n",
      "        [0., 0., 0., 0., 0., 0., 0., 0., 0., 0.]])\n"
     ]
    }
   ],
   "source": [
    "mask = pad(mask, R, C)\n",
    "print(mask)"
   ]
  },
  {
   "cell_type": "code",
   "execution_count": 27,
   "id": "18cc9006",
   "metadata": {},
   "outputs": [
    {
     "name": "stdout",
     "output_type": "stream",
     "text": [
      "tensor([[0.0000e+00, 0.0000e+00, 0.0000e+00, 0.0000e+00, 0.0000e+00, 0.0000e+00,\n",
      "         0.0000e+00, 0.0000e+00, 0.0000e+00, 0.0000e+00],\n",
      "        [0.0000e+00, 3.0182e-04, 2.3826e-03, 8.2305e-03, 1.2442e-02, 8.2305e-03,\n",
      "         2.3826e-03, 3.0182e-04, 0.0000e+00, 0.0000e+00],\n",
      "        [0.0000e+00, 2.3826e-03, 1.8808e-02, 6.4973e-02, 9.8218e-02, 6.4973e-02,\n",
      "         1.8808e-02, 2.3826e-03, 0.0000e+00, 0.0000e+00],\n",
      "        [0.0000e+00, 8.2305e-03, 6.4973e-02, 2.2445e-01, 3.3929e-01, 2.2445e-01,\n",
      "         6.4973e-02, 8.2305e-03, 0.0000e+00, 0.0000e+00],\n",
      "        [0.0000e+00, 1.2442e-02, 9.8218e-02, 3.3929e-01, 5.1290e-01, 3.3929e-01,\n",
      "         9.8218e-02, 1.2442e-02, 0.0000e+00, 0.0000e+00],\n",
      "        [0.0000e+00, 8.2305e-03, 6.4973e-02, 2.2445e-01, 3.3929e-01, 2.2445e-01,\n",
      "         6.4973e-02, 8.2305e-03, 0.0000e+00, 0.0000e+00],\n",
      "        [0.0000e+00, 2.3826e-03, 1.8808e-02, 6.4973e-02, 9.8218e-02, 6.4973e-02,\n",
      "         1.8808e-02, 2.3826e-03, 0.0000e+00, 0.0000e+00],\n",
      "        [0.0000e+00, 3.0182e-04, 2.3826e-03, 8.2305e-03, 1.2442e-02, 8.2305e-03,\n",
      "         2.3826e-03, 3.0182e-04, 0.0000e+00, 0.0000e+00],\n",
      "        [0.0000e+00, 0.0000e+00, 0.0000e+00, 0.0000e+00, 0.0000e+00, 0.0000e+00,\n",
      "         0.0000e+00, 0.0000e+00, 0.0000e+00, 0.0000e+00],\n",
      "        [0.0000e+00, 0.0000e+00, 0.0000e+00, 0.0000e+00, 0.0000e+00, 0.0000e+00,\n",
      "         0.0000e+00, 0.0000e+00, 0.0000e+00, 0.0000e+00]])\n"
     ]
    }
   ],
   "source": [
    "g_mask = pad(gauss_mask(1.1, n_pix), R, C)\n",
    "print(g_mask)"
   ]
  },
  {
   "cell_type": "code",
   "execution_count": 29,
   "id": "07d782ba",
   "metadata": {},
   "outputs": [],
   "source": [
    "# Null Hypothesis\n",
    "\n",
    "trans_mask = torch.fft.fft2(mask)\n",
    "trans_image = torch.fft.fft2(Im)\n",
    "m0 = torch.real(torch.fft.fftshift(torch.fft.ifft2(trans_mask*trans_image)))/N  #Mean intensity in window\n",
    "\n",
    "trans_image2 = torch.fft.fft2(Im*Im)\n",
    "im_variance = torch.real(torch.fft.fftshift(torch.fft.ifft2(trans_mask*trans_image2)))/N #Mean second moment of initensity in window\n"
   ]
  },
  {
   "cell_type": "code",
   "execution_count": 33,
   "id": "6cdba640",
   "metadata": {},
   "outputs": [],
   "source": [
    "# H1\n",
    "\n",
    "g_mask = pad(gauss_mask(radius, n_pix), R, C)\n",
    "g_mask_mean_shift = g_mask - torch.sum(g_mask)/N\n",
    "g_variance = torch.sum(g_mask_mean_shift**2)\n",
    "\n",
    "trans_g_mask = torch.fft.fft2(g_mask_mean_shift)\n",
    "\n",
    "alpha = torch.real(torch.fft.fftshift(torch.fft.ifft2(trans_g_mask*trans_image))) / g_variance  #fit value of gaussian term prefactor.\n"
   ]
  },
  {
   "cell_type": "code",
   "execution_count": 34,
   "id": "219307f4",
   "metadata": {},
   "outputs": [],
   "source": [
    "test = 1 - (g_variance * alpha**2)/ (im_variance - N*m0**2 )\n",
    "test[test <= 0] = 1\n",
    "w_map = - N * torch.log(test)"
   ]
  },
  {
   "cell_type": "code",
   "execution_count": 39,
   "id": "d6667e29",
   "metadata": {},
   "outputs": [],
   "source": [
    "m0, alpha, w_map = wilks_map_tensor(Im, radius, n_pix)"
   ]
  },
  {
   "cell_type": "code",
   "execution_count": null,
   "id": "8102a6ce",
   "metadata": {},
   "outputs": [],
   "source": []
  },
  {
   "cell_type": "code",
   "execution_count": null,
   "id": "e8ca8a98",
   "metadata": {},
   "outputs": [],
   "source": [
    "N = n_pix**2\n",
    "    mask = np.ones((n_pix, n_pix))\n",
    "\n",
    "    def pad(Mask,R,C):\n",
    "        r,  c = np.shape(Mask)\n",
    "        Out = np.zeros((R, C))\n",
    "        r_indices = slice(np.floor_divide((R-r), 2), np.floor_divide((R-r), 2)+r)\n",
    "        c_indices = slice(np.floor_divide((C-c), 2), np.floor_divide((C-c), 2)+c)\n",
    "        Out[r_indices, c_indices] += Mask\n",
    "        return Out\n",
    "\n",
    "    def gauss_mask(r,n_pix):\n",
    "        xx = np.arange(n_pix).reshape(-1,1)@np.ones((1,n_pix))-(n_pix-1)/2\n",
    "        yy = np.ones((n_pix,1))@np.arange(n_pix).reshape(1,-1)-(n_pix-1)/2\n",
    "        zz = -(xx**2+yy**2)/2/r**2\n",
    "        mask = 1/np.sqrt(np.pi*r**2)*np.exp(zz)\n",
    "        return mask\n",
    "\n",
    "    mask = pad(mask, R, C)\n",
    "\n",
    "\n",
    "# Null Hypothesis\n",
    "\n",
    "    trans_mask = np.fft.fft2(mask)\n",
    "    trans_image = np.fft.fft2(Im)\n",
    "    m0 = np.real(np.fft.fftshift(np.fft.ifft2(trans_mask*trans_image)))/N  #Mean intensity in window\n",
    "\n",
    "    trans_image2 = np.fft.fft2(Im*Im)\n",
    "    im_variance = np.real(np.fft.fftshift(np.fft.ifft2(trans_mask*trans_image2)))/N #Mean second moment of initensity in window\n",
    "\n",
    "# H1\n",
    "\n",
    "    g_mask = pad(gauss_mask(radius, n_pix), R, C)\n",
    "    g_mask_mean_shift = g_mask - np.sum(g_mask)/N\n",
    "    g_variance = np.sum(g_mask_mean_shift**2)\n",
    "\n",
    "    trans_g_mask = np.fft.fft2(g_mask_mean_shift)\n",
    "\n",
    "    alpha = np.real(np.fft.fftshift(np.fft.ifft2(trans_g_mask*trans_image))) / g_variance  #fit value of gaussian term prefactor.\n",
    "\n",
    "\n",
    "\n",
    "    test = 1 - (g_variance * alpha**2)/ (im_variance - N*m0**2 )\n",
    "    test[test <= 0] = 1\n",
    "    w_map = - N * np.log(test)\n",
    "\n",
    "    return m0, alpha, w_map"
   ]
  }
 ],
 "metadata": {
  "kernelspec": {
   "display_name": "Python 3",
   "language": "python",
   "name": "python3"
  },
  "language_info": {
   "codemirror_mode": {
    "name": "ipython",
    "version": 3
   },
   "file_extension": ".py",
   "mimetype": "text/x-python",
   "name": "python",
   "nbconvert_exporter": "python",
   "pygments_lexer": "ipython3",
   "version": "3.7.10"
  }
 },
 "nbformat": 4,
 "nbformat_minor": 5
}
